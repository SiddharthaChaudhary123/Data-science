{
 "cells": [
  {
   "cell_type": "markdown",
   "id": "b52375c6-5fbc-4beb-8ad9-968f77ae0f42",
   "metadata": {},
   "source": [
    "Qn 4"
   ]
  },
  {
   "cell_type": "code",
   "execution_count": 1,
   "id": "eaad8885-5c90-4613-984f-c1175cb7b536",
   "metadata": {},
   "outputs": [
    {
     "data": {
      "text/plain": [
       "['Pk', 'Kgf']"
      ]
     },
     "execution_count": 1,
     "metadata": {},
     "output_type": "execute_result"
    }
   ],
   "source": [
    "movie_list=['Pk','Kgf']\n",
    "movie_list"
   ]
  },
  {
   "cell_type": "code",
   "execution_count": 2,
   "id": "c0877fab-1639-4f3f-90b8-f06158205f34",
   "metadata": {},
   "outputs": [],
   "source": [
    "movie_list.append('Thor')"
   ]
  },
  {
   "cell_type": "code",
   "execution_count": 3,
   "id": "0b04c488-b99b-4dfe-93c5-1fb670812a8e",
   "metadata": {},
   "outputs": [
    {
     "data": {
      "text/plain": [
       "['Pk', 'Kgf', 'Thor']"
      ]
     },
     "execution_count": 3,
     "metadata": {},
     "output_type": "execute_result"
    }
   ],
   "source": [
    "movie_list"
   ]
  },
  {
   "cell_type": "markdown",
   "id": "a27c9b68-4a37-4f83-b1f3-14357185a86f",
   "metadata": {},
   "source": [
    "Qn 5"
   ]
  },
  {
   "cell_type": "code",
   "execution_count": 4,
   "id": "691256f0-7af3-4690-9b49-a6e2c7ceb372",
   "metadata": {},
   "outputs": [
    {
     "data": {
      "text/plain": [
       "[1, 2, 3, 4, 5, 6, 7, 8, 9, 10]"
      ]
     },
     "execution_count": 4,
     "metadata": {},
     "output_type": "execute_result"
    }
   ],
   "source": [
    "integer_list=[1,2,3,4,5,6,7,8,9,10]\n",
    "integer_list"
   ]
  },
  {
   "cell_type": "code",
   "execution_count": 45,
   "id": "f51d7c8b-ee33-4944-b6e1-c3f0110939a8",
   "metadata": {},
   "outputs": [],
   "source": [
    "add=0"
   ]
  },
  {
   "cell_type": "code",
   "execution_count": 46,
   "id": "18e5ad15-06a1-456d-9764-3149af8cd2f8",
   "metadata": {},
   "outputs": [],
   "source": [
    "for i in range(10):\n",
    "    add+=integer_list[i]"
   ]
  },
  {
   "cell_type": "code",
   "execution_count": 47,
   "id": "cc597c73-a497-4f33-8753-27a144c64a13",
   "metadata": {},
   "outputs": [
    {
     "name": "stdout",
     "output_type": "stream",
     "text": [
      "55\n"
     ]
    }
   ],
   "source": [
    "print(add)"
   ]
  },
  {
   "cell_type": "markdown",
   "id": "e5d3cf01-7d84-417f-8467-35249f2639b9",
   "metadata": {},
   "source": [
    "Qn 6"
   ]
  },
  {
   "cell_type": "code",
   "execution_count": 20,
   "id": "22244d4e-a553-4112-a9a8-c2977fbe78a5",
   "metadata": {},
   "outputs": [
    {
     "data": {
      "text/plain": [
       "[1, 2, 3, 'sid', 1.5]"
      ]
     },
     "execution_count": 20,
     "metadata": {},
     "output_type": "execute_result"
    }
   ],
   "source": [
    "mixed_list=[1,2,3,'sid',1.5]\n",
    "mixed_list"
   ]
  },
  {
   "cell_type": "code",
   "execution_count": 21,
   "id": "e0f3670a-07de-4125-9f76-06bf48b72ce0",
   "metadata": {},
   "outputs": [
    {
     "data": {
      "text/plain": [
       "[2, 3, 'sid', 1.5]"
      ]
     },
     "execution_count": 21,
     "metadata": {},
     "output_type": "execute_result"
    }
   ],
   "source": [
    "mixed_list.pop(0)\n",
    "mixed_list"
   ]
  },
  {
   "cell_type": "markdown",
   "id": "ba667486-b896-45ca-af8f-ffa7f367d455",
   "metadata": {},
   "source": [
    "Qn 7"
   ]
  },
  {
   "cell_type": "code",
   "execution_count": 48,
   "id": "f088e402-91f3-4979-a79d-5bd0dad48271",
   "metadata": {},
   "outputs": [
    {
     "name": "stdout",
     "output_type": "stream",
     "text": [
      "('sunday', 'monday', 'tuesday', 'thursday', 'friday', 'saturday')\n"
     ]
    }
   ],
   "source": [
    "week=('sunday','monday','tuesday','thursday','friday','saturday')\n",
    "print(week)"
   ]
  },
  {
   "cell_type": "code",
   "execution_count": 49,
   "id": "608125e5-154a-4660-9227-89794446dd98",
   "metadata": {},
   "outputs": [
    {
     "name": "stdout",
     "output_type": "stream",
     "text": [
      "third day: tuesday\n"
     ]
    }
   ],
   "source": [
    "print(\"third day:\",week[2])"
   ]
  },
  {
   "cell_type": "markdown",
   "id": "9111516c-3fcc-45e4-af50-6850012b79b1",
   "metadata": {},
   "source": [
    "Qn 8"
   ]
  },
  {
   "cell_type": "code",
   "execution_count": 50,
   "id": "79e1a617-87d7-47f9-94f9-1b962ce83b8f",
   "metadata": {},
   "outputs": [
    {
     "name": "stdout",
     "output_type": "stream",
     "text": [
      "('red', 'green', 'blue')\n"
     ]
    }
   ],
   "source": [
    "color_tuple=('red','green','blue')\n",
    "print(color_tuple)"
   ]
  },
  {
   "cell_type": "code",
   "execution_count": 52,
   "id": "ea85a802-832d-448c-9328-e77444da6faa",
   "metadata": {},
   "outputs": [],
   "source": [
    "color='red'"
   ]
  },
  {
   "cell_type": "code",
   "execution_count": 58,
   "id": "412b4b5a-b5de-491f-8720-cf50ff10c7a4",
   "metadata": {},
   "outputs": [
    {
     "name": "stdout",
     "output_type": "stream",
     "text": [
      "it is in tuple\n"
     ]
    }
   ],
   "source": [
    "if color in color_tuple:\n",
    "    print('it is in tuple')\n",
    "else:\n",
    "    print('it is not in tuple')\n",
    "    "
   ]
  },
  {
   "cell_type": "markdown",
   "id": "b5b274a4-4258-4127-83a9-8fcf1002170b",
   "metadata": {},
   "source": [
    "Qn 9"
   ]
  },
  {
   "cell_type": "code",
   "execution_count": 56,
   "id": "5508bda5-38d1-45bd-9eaa-b5190ebb0f8a",
   "metadata": {},
   "outputs": [],
   "source": [
    "book={'title':'SAD','author':'joeffrey','year':'2012'}"
   ]
  },
  {
   "cell_type": "code",
   "execution_count": 57,
   "id": "21612099-ab98-438c-a594-a50ee0763629",
   "metadata": {},
   "outputs": [
    {
     "name": "stdout",
     "output_type": "stream",
     "text": [
      "{'title': 'SAD', 'author': 'joeffrey', 'year': '2012'}\n"
     ]
    }
   ],
   "source": [
    "print(book)"
   ]
  },
  {
   "cell_type": "code",
   "execution_count": 59,
   "id": "10152b94-37f8-433a-aa01-09f873d257f0",
   "metadata": {},
   "outputs": [],
   "source": [
    "book['year']=2013"
   ]
  },
  {
   "cell_type": "code",
   "execution_count": 60,
   "id": "294d781e-6121-471b-a69b-522f5aef4c0f",
   "metadata": {},
   "outputs": [
    {
     "name": "stdout",
     "output_type": "stream",
     "text": [
      "{'title': 'SAD', 'author': 'joeffrey', 'year': 2013}\n"
     ]
    }
   ],
   "source": [
    "print(book)"
   ]
  },
  {
   "cell_type": "markdown",
   "id": "08815aa7-b8e0-4c2a-bd74-12d09ccf1987",
   "metadata": {},
   "source": [
    "Qn 10"
   ]
  },
  {
   "cell_type": "code",
   "execution_count": 61,
   "id": "5a971dc1-ed1f-4357-9da8-2a469c958db3",
   "metadata": {},
   "outputs": [
    {
     "name": "stdout",
     "output_type": "stream",
     "text": [
      "{'apple': 'red', 'grape': 'green', 'litchi': 'brown'}\n"
     ]
    }
   ],
   "source": [
    "fruit={'apple':'red','grape':'green','litchi':'brown'}\n",
    "print(fruit)"
   ]
  },
  {
   "cell_type": "code",
   "execution_count": 62,
   "id": "45f2a24c-2073-43df-8ae6-1fbe93641337",
   "metadata": {},
   "outputs": [
    {
     "name": "stdout",
     "output_type": "stream",
     "text": [
      "{'apple': 'red', 'grape': 'green', 'litchi': 'brown', 'mango': 'yellow'}\n"
     ]
    }
   ],
   "source": [
    "fruit['mango']='yellow'\n",
    "print(fruit)"
   ]
  },
  {
   "cell_type": "markdown",
   "id": "b885a68d-aa2b-4a0f-a1ff-b3d3e521fde2",
   "metadata": {},
   "source": [
    "Qn 11"
   ]
  },
  {
   "cell_type": "code",
   "execution_count": 63,
   "id": "206131e9-c722-496b-af13-f74cd05fe741",
   "metadata": {},
   "outputs": [
    {
     "name": "stdout",
     "output_type": "stream",
     "text": [
      "{'bhairahawa': 10000, 'butwal': '12345', 'ktm': 54321}\n"
     ]
    }
   ],
   "source": [
    "population={'bhairahawa':10000,'butwal':'12345','ktm':54321}\n",
    "print(population)"
   ]
  },
  {
   "cell_type": "code",
   "execution_count": 65,
   "id": "bffe4ef8-8b5b-4677-886e-e69dea36fcf6",
   "metadata": {},
   "outputs": [
    {
     "name": "stdout",
     "output_type": "stream",
     "text": [
      "{'bhairahawa': 10000, 'butwal': '12345'}\n"
     ]
    }
   ],
   "source": [
    "del population['ktm']\n",
    "print(population)"
   ]
  },
  {
   "cell_type": "code",
   "execution_count": null,
   "id": "464b7eab-e5af-4905-a180-5022413417ff",
   "metadata": {},
   "outputs": [],
   "source": []
  }
 ],
 "metadata": {
  "kernelspec": {
   "display_name": "Python 3 (ipykernel)",
   "language": "python",
   "name": "python3"
  },
  "language_info": {
   "codemirror_mode": {
    "name": "ipython",
    "version": 3
   },
   "file_extension": ".py",
   "mimetype": "text/x-python",
   "name": "python",
   "nbconvert_exporter": "python",
   "pygments_lexer": "ipython3",
   "version": "3.11.7"
  }
 },
 "nbformat": 4,
 "nbformat_minor": 5
}
