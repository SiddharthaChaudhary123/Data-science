{
 "cells": [
  {
   "cell_type": "markdown",
   "id": "b52375c6-5fbc-4beb-8ad9-968f77ae0f42",
   "metadata": {},
   "source": [
    "Qn 4"
   ]
  },
  {
   "cell_type": "code",
   "execution_count": 1,
   "id": "eaad8885-5c90-4613-984f-c1175cb7b536",
   "metadata": {},
   "outputs": [
    {
     "data": {
      "text/plain": [
       "['Pk', 'Kgf']"
      ]
     },
     "execution_count": 1,
     "metadata": {},
     "output_type": "execute_result"
    }
   ],
   "source": [
    "movie_list=['Pk','Kgf']\n",
    "movie_list"
   ]
  },
  {
   "cell_type": "code",
   "execution_count": 2,
   "id": "c0877fab-1639-4f3f-90b8-f06158205f34",
   "metadata": {},
   "outputs": [],
   "source": [
    "movie_list.append('Thor')"
   ]
  },
  {
   "cell_type": "code",
   "execution_count": 3,
   "id": "0b04c488-b99b-4dfe-93c5-1fb670812a8e",
   "metadata": {},
   "outputs": [
    {
     "data": {
      "text/plain": [
       "['Pk', 'Kgf', 'Thor']"
      ]
     },
     "execution_count": 3,
     "metadata": {},
     "output_type": "execute_result"
    }
   ],
   "source": [
    "movie_list"
   ]
  },
  {
   "cell_type": "code",
   "execution_count": null,
   "id": "6c4f6447-6362-4241-9cfa-14fe8473b402",
   "metadata": {},
   "outputs": [],
   "source": []
  }
 ],
 "metadata": {
  "kernelspec": {
   "display_name": "Python 3 (ipykernel)",
   "language": "python",
   "name": "python3"
  },
  "language_info": {
   "codemirror_mode": {
    "name": "ipython",
    "version": 3
   },
   "file_extension": ".py",
   "mimetype": "text/x-python",
   "name": "python",
   "nbconvert_exporter": "python",
   "pygments_lexer": "ipython3",
   "version": "3.11.7"
  }
 },
 "nbformat": 4,
 "nbformat_minor": 5
}
